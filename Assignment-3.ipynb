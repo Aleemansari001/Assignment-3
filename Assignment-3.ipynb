{
 "cells": [
  {
   "cell_type": "markdown",
   "id": "12aeeedb-6dfc-45d8-93ea-384c734c21b0",
   "metadata": {},
   "source": [
    "Q.1"
   ]
  },
  {
   "cell_type": "markdown",
   "id": "f369ad13-8394-447a-9445-188b0919fee8",
   "metadata": {},
   "source": [
    "def keyword is used to create a function."
   ]
  },
  {
   "cell_type": "markdown",
   "id": "574838fd-b31c-4a8e-8530-1021f75738a5",
   "metadata": {},
   "source": [
    "simple method"
   ]
  },
  {
   "cell_type": "code",
   "execution_count": 2,
   "id": "17d44212-80ed-4e28-9398-98e5f9d59c0b",
   "metadata": {},
   "outputs": [],
   "source": [
    "l1=[]\n",
    "for i in range(26):\n",
    "    if i%2!=0:\n",
    "        l1.append(i)"
   ]
  },
  {
   "cell_type": "code",
   "execution_count": 3,
   "id": "8defe3ae-69ab-4160-8e34-358fa62d9ec3",
   "metadata": {},
   "outputs": [
    {
     "data": {
      "text/plain": [
       "[1, 3, 5, 7, 9, 11, 13, 15, 17, 19, 21, 23, 25]"
      ]
     },
     "execution_count": 3,
     "metadata": {},
     "output_type": "execute_result"
    }
   ],
   "source": [
    "l1"
   ]
  },
  {
   "cell_type": "markdown",
   "id": "a72a5012-8367-45bd-81f0-6678e13b749c",
   "metadata": {},
   "source": [
    "Using def function"
   ]
  },
  {
   "cell_type": "code",
   "execution_count": 4,
   "id": "92cb657f-a325-4e21-aadd-fb72049a47ee",
   "metadata": {},
   "outputs": [],
   "source": [
    "l = [1,2,3,4,5,6,7,8,9,10,11,12,13,14,15,16,17,18,19,20,21,22,23,24,25]"
   ]
  },
  {
   "cell_type": "code",
   "execution_count": 5,
   "id": "a91ac099-f273-4aca-b266-d60d68d0d4f6",
   "metadata": {},
   "outputs": [],
   "source": [
    "def test(l):\n",
    "    l1=[]\n",
    "    for i in l:\n",
    "        if i%2!=0:\n",
    "            l1.append(i)\n",
    "    return l1"
   ]
  },
  {
   "cell_type": "code",
   "execution_count": 6,
   "id": "57ab02f4-61ad-44fa-bb5c-865846965f9b",
   "metadata": {},
   "outputs": [
    {
     "data": {
      "text/plain": [
       "[1, 3, 5, 7, 9, 11, 13, 15, 17, 19, 21, 23, 25]"
      ]
     },
     "execution_count": 6,
     "metadata": {},
     "output_type": "execute_result"
    }
   ],
   "source": [
    "test(l)"
   ]
  },
  {
   "cell_type": "markdown",
   "id": "143c6497-d4d6-4df5-a6a0-50490e661994",
   "metadata": {},
   "source": [
    "Q.2"
   ]
  },
  {
   "cell_type": "markdown",
   "id": "7d839fd9-deb4-4b73-b881-dfbef3454460",
   "metadata": {},
   "source": [
    "We can use *args and **kwargs as arguments of a function when We are unsure about the number of arguments to pass in the functions."
   ]
  },
  {
   "cell_type": "markdown",
   "id": "53c3480d-ca10-413d-86cc-b10a04238241",
   "metadata": {},
   "source": [
    "Example of *args"
   ]
  },
  {
   "cell_type": "code",
   "execution_count": 7,
   "id": "744f4a45-80d5-45e0-b2b8-7e7d82f374c3",
   "metadata": {},
   "outputs": [],
   "source": [
    "def colors(*args):\n",
    "    return args"
   ]
  },
  {
   "cell_type": "code",
   "execution_count": 8,
   "id": "6446f070-945b-429c-a01e-e4e592bdf01e",
   "metadata": {},
   "outputs": [
    {
     "data": {
      "text/plain": [
       "('Red', 'Yellow', 'Black', 'White', 'Pink')"
      ]
     },
     "execution_count": 8,
     "metadata": {},
     "output_type": "execute_result"
    }
   ],
   "source": [
    "colors(\"Red\", \"Yellow\", \"Black\", \"White\", \"Pink\")"
   ]
  },
  {
   "cell_type": "markdown",
   "id": "368e6949-e658-4633-9979-58bc8c90b4be",
   "metadata": {},
   "source": [
    "Example of **kwargs"
   ]
  },
  {
   "cell_type": "code",
   "execution_count": 13,
   "id": "346c21ec-edb9-4c5f-99c0-859ede13d762",
   "metadata": {},
   "outputs": [],
   "source": [
    "def ax(**kwargs):\n",
    "    return kwargs"
   ]
  },
  {
   "cell_type": "code",
   "execution_count": 14,
   "id": "0639cf8c-9f45-4151-b18f-914e6206de87",
   "metadata": {},
   "outputs": [
    {
     "data": {
      "text/plain": [
       "{'a': [1, 2, 3, 4, 5], 'b': 'Apple', 'c': 123}"
      ]
     },
     "execution_count": 14,
     "metadata": {},
     "output_type": "execute_result"
    }
   ],
   "source": [
    "ax(a=[1,2,3,4,5], b = \"Apple\", c = 123)"
   ]
  },
  {
   "cell_type": "markdown",
   "id": "c1b17bac-b8c1-45ca-8734-4be50efd6b6e",
   "metadata": {},
   "source": [
    "Q.3"
   ]
  },
  {
   "cell_type": "markdown",
   "id": "4361d472-1857-4987-8e79-c72fe57a1789",
   "metadata": {},
   "source": [
    "In Python, an iterator is an object that allows us to iterate over collections of data, such as lists, tuples, dictionaries, and sets."
   ]
  },
  {
   "cell_type": "markdown",
   "id": "d122db6f-b665-4dfd-9075-48d2d45a8413",
   "metadata": {},
   "source": [
    "Iter() method is used to initialize the iterator object so that the instance of this object can be used for iterating."
   ]
  },
  {
   "cell_type": "code",
   "execution_count": 15,
   "id": "3a66b3cd-effa-4c74-9b29-c1a504b284f8",
   "metadata": {},
   "outputs": [
    {
     "name": "stdout",
     "output_type": "stream",
     "text": [
      "2\n",
      "4\n",
      "6\n",
      "8\n",
      "10\n"
     ]
    }
   ],
   "source": [
    "l = [2,4,6,8,10,12,14,16,18,20]\n",
    "l=iter(l)\n",
    "for i in range(5):\n",
    "        print(next(l))\n",
    "# iter method for initialising\n",
    "# next method for iterating"
   ]
  },
  {
   "cell_type": "markdown",
   "id": "62e1fa67-2276-4ddf-865c-05f44e6b1e54",
   "metadata": {},
   "source": [
    "Q.4"
   ]
  },
  {
   "cell_type": "markdown",
   "id": "ef1ff8f9-728d-4dff-a92e-e78eadb35f22",
   "metadata": {},
   "source": [
    "If you want to return multiple values from a function, you can use generator functions with yield keywords. The yield expressions return multiple values.\n",
    "They return one value, then wait, save the local state, and resume again."
   ]
  },
  {
   "cell_type": "code",
   "execution_count": 4,
   "id": "6e702725-54f7-4afc-9cd3-27adc069e2e4",
   "metadata": {},
   "outputs": [],
   "source": [
    "def ans(n):\n",
    "    a, b = 1,2\n",
    "    for i in range(n):\n",
    "        yield a \n",
    "        a,b = b, a*b"
   ]
  },
  {
   "cell_type": "code",
   "execution_count": 5,
   "id": "76211027-9c78-4a17-942b-41286fec4c93",
   "metadata": {},
   "outputs": [
    {
     "name": "stdout",
     "output_type": "stream",
     "text": [
      "1\n",
      "2\n",
      "2\n",
      "4\n",
      "8\n",
      "32\n",
      "256\n"
     ]
    }
   ],
   "source": [
    "for i in ans(7):\n",
    "    print(i)"
   ]
  },
  {
   "cell_type": "markdown",
   "id": "d78ce89e-0a6c-49d2-8596-b955a6a2d356",
   "metadata": {},
   "source": [
    "Q.5"
   ]
  },
  {
   "cell_type": "code",
   "execution_count": 3,
   "id": "1e246e5c-2315-4cb1-9e81-5f606a229a4a",
   "metadata": {},
   "outputs": [
    {
     "name": "stdout",
     "output_type": "stream",
     "text": [
      "2\n",
      "3\n",
      "5\n",
      "7\n",
      "11\n",
      "13\n",
      "17\n",
      "19\n",
      "23\n",
      "29\n",
      "31\n",
      "37\n",
      "41\n",
      "43\n",
      "47\n",
      "53\n",
      "59\n",
      "61\n",
      "67\n",
      "71\n"
     ]
    }
   ],
   "source": [
    "def prime_generator():\n",
    "    primes = []\n",
    "    num = 2\n",
    "\n",
    "    while True:\n",
    "        is_prime = True\n",
    "        for prime in primes:\n",
    "            if num % prime == 0:\n",
    "                is_prime = False\n",
    "                break\n",
    "\n",
    "        if is_prime:\n",
    "            primes.append(num)\n",
    "            yield num\n",
    "\n",
    "        num += 1\n",
    "\n",
    "\n",
    "# Create the prime number generator\n",
    "prime_gen = prime_generator()\n",
    "\n",
    "# Print the first 20 prime numbers\n",
    "for _ in range(20):\n",
    "    prime = next(prime_gen)\n",
    "    print(prime)"
   ]
  },
  {
   "cell_type": "markdown",
   "id": "ec60048c-f4a8-4518-978f-79cf2d37c5a1",
   "metadata": {},
   "source": [
    "Q.6"
   ]
  },
  {
   "cell_type": "code",
   "execution_count": 11,
   "id": "060b8096-f9c3-45c2-990a-48d5ff6dde9e",
   "metadata": {},
   "outputs": [
    {
     "name": "stdout",
     "output_type": "stream",
     "text": [
      "1\n",
      "0\n",
      "1\n",
      "1\n",
      "2\n",
      "3\n",
      "5\n",
      "8\n",
      "13\n",
      "21\n"
     ]
    }
   ],
   "source": [
    "def fib():\n",
    "    a, b = 1,0\n",
    "    while True:\n",
    "        yield a \n",
    "        a,b = b, a+b\n",
    "fib = fib()\n",
    "for i in range(10):\n",
    "    print(next(fib))\n"
   ]
  },
  {
   "cell_type": "markdown",
   "id": "64dfadc6-42e4-49b9-ac58-2655e000cf9a",
   "metadata": {},
   "source": [
    "Q.7"
   ]
  },
  {
   "cell_type": "code",
   "execution_count": 7,
   "id": "9a6dd457-b454-44c9-b35e-199e6dc054a7",
   "metadata": {},
   "outputs": [
    {
     "name": "stdout",
     "output_type": "stream",
     "text": [
      "['p', 'w', 's', 'k', 'i', 'l', 'l', 's']\n"
     ]
    }
   ],
   "source": [
    "a = 'pwskills'\n",
    "l = []\n",
    "for i in a:\n",
    "    l.append(i)\n",
    "print(l)"
   ]
  },
  {
   "cell_type": "markdown",
   "id": "93d1b7d0-558a-470c-8c87-0dc2636365f9",
   "metadata": {},
   "source": [
    "Q.8"
   ]
  },
  {
   "cell_type": "code",
   "execution_count": 9,
   "id": "bcf0d918-04f6-414d-a3f4-d1f0e912915f",
   "metadata": {},
   "outputs": [
    {
     "name": "stdout",
     "output_type": "stream",
     "text": [
      "Palindrome\n"
     ]
    }
   ],
   "source": [
    "s= \"labal\"\n",
    "i = 0\n",
    "j = len(s)-1\n",
    "flag = True\n",
    "while i <= j:\n",
    "    if s[i]!=s[j]:\n",
    "        flag = False\n",
    "    i+=1\n",
    "    j-=1\n",
    "    if flag ==False:\n",
    "        print(\"Not Palindrome\")\n",
    "        break\n",
    "if flag ==True:\n",
    "        print(\"Palindrome\")"
   ]
  },
  {
   "cell_type": "markdown",
   "id": "fda0c8f8-e62b-4a23-a257-2394b8c0855a",
   "metadata": {},
   "source": [
    "Q.9"
   ]
  },
  {
   "cell_type": "code",
   "execution_count": 10,
   "id": "08094c05-2dac-4182-a8f1-57fe83fb3d92",
   "metadata": {},
   "outputs": [
    {
     "name": "stdout",
     "output_type": "stream",
     "text": [
      "[1, 3, 5, 7, 9, 11, 13, 15, 17, 19, 21, 23, 25, 27, 29, 31, 33, 35, 37, 39, 41, 43, 45, 47, 49, 51, 53, 55, 57, 59, 61, 63, 65, 67, 69, 71, 73, 75, 77, 79, 81, 83, 85, 87, 89, 91, 93, 95, 97, 99]\n"
     ]
    }
   ],
   "source": [
    "number_list = [ num for num in range(100) if num % 2 != 0]  \n",
    "print(number_list)  "
   ]
  },
  {
   "cell_type": "code",
   "execution_count": null,
   "id": "bd1eda82-0a8b-4158-b7c7-4e109b6b3730",
   "metadata": {},
   "outputs": [],
   "source": []
  }
 ],
 "metadata": {
  "kernelspec": {
   "display_name": "Python 3 (ipykernel)",
   "language": "python",
   "name": "python3"
  },
  "language_info": {
   "codemirror_mode": {
    "name": "ipython",
    "version": 3
   },
   "file_extension": ".py",
   "mimetype": "text/x-python",
   "name": "python",
   "nbconvert_exporter": "python",
   "pygments_lexer": "ipython3",
   "version": "3.10.8"
  }
 },
 "nbformat": 4,
 "nbformat_minor": 5
}
